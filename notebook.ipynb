{
 "cells": [
  {
   "cell_type": "code",
   "execution_count": 6,
   "metadata": {},
   "outputs": [
    {
     "name": "stdout",
     "output_type": "stream",
     "text": [
      "dig 1\n",
      "d i\n"
     ]
    }
   ],
   "source": [
    "hej = \"dig#1\"\n",
    "\n",
    "one = hej.split(\"#\",1)[0]\n",
    "two = hej.split(\"#\",1)[-1]\n",
    "print(one + \" \" + two)\n",
    "\n",
    "print(hej[0], hej[1])"
   ]
  }
 ],
 "metadata": {
  "kernelspec": {
   "display_name": "base",
   "language": "python",
   "name": "python3"
  },
  "language_info": {
   "codemirror_mode": {
    "name": "ipython",
    "version": 3
   },
   "file_extension": ".py",
   "mimetype": "text/x-python",
   "name": "python",
   "nbconvert_exporter": "python",
   "pygments_lexer": "ipython3",
   "version": "3.12.7"
  }
 },
 "nbformat": 4,
 "nbformat_minor": 2
}
